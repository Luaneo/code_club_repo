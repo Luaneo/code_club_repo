{
 "cells": [
  {
   "cell_type": "code",
   "execution_count": 1,
   "metadata": {},
   "outputs": [],
   "source": [
    "from itertools import product"
   ]
  },
  {
   "cell_type": "code",
   "execution_count": 2,
   "metadata": {},
   "outputs": [],
   "source": [
    "def solve(n: str, x: str, y: str) -> int:\n",
    "\n",
    "    int_n = int(n)\n",
    "\n",
    "    if int(n) < min(int(x), int(y)):\n",
    "        res = -1\n",
    "\n",
    "    elif x == y:\n",
    "        if x == 0:\n",
    "            res = -1\n",
    "        else:\n",
    "            res = len(n) - 1 + int(x * len(n)) < int(n)\n",
    "\n",
    "    elif x == '0' or y == '0':\n",
    "        nonzero = x if x != '0' else y\n",
    "        res = 2 ** (len(n) - 2)\n",
    "        for s in product((x + y), repeat=(len(n) - 1)):\n",
    "            if int(nonzero+''.join(s)) <= int_n:\n",
    "                res += 1\n",
    "\n",
    "    else:\n",
    "        res = 2 ** (len(n) - 1)\n",
    "        for s in product((x + y), repeat=len(n)):\n",
    "            if int(''.join(s)) <= int_n:\n",
    "                res += 1\n",
    "\n",
    "    if res == 0:\n",
    "        res = -1\n",
    "    \n",
    "    return res"
   ]
  },
  {
   "cell_type": "code",
   "execution_count": 3,
   "metadata": {},
   "outputs": [
    {
     "name": "stdout",
     "output_type": "stream",
     "text": [
      "CPU times: user 33 µs, sys: 5 µs, total: 38 µs\n",
      "Wall time: 39.8 µs\n"
     ]
    },
    {
     "data": {
      "text/plain": [
       "64"
      ]
     },
     "execution_count": 3,
     "metadata": {},
     "output_type": "execute_result"
    }
   ],
   "source": [
    "n, x, y = str(1000000), '4', '6'\n",
    "%time solve(n, x, y)"
   ]
  },
  {
   "cell_type": "code",
   "execution_count": 4,
   "metadata": {},
   "outputs": [
    {
     "name": "stdout",
     "output_type": "stream",
     "text": [
      "29.5 µs ± 1.52 µs per loop (mean ± std. dev. of 7 runs, 10,000 loops each)\n"
     ]
    }
   ],
   "source": [
    "%timeit solve(n, x, y)"
   ]
  },
  {
   "cell_type": "code",
   "execution_count": null,
   "metadata": {},
   "outputs": [],
   "source": []
  }
 ],
 "metadata": {
  "kernelspec": {
   "display_name": "Python 3",
   "language": "python",
   "name": "python3"
  },
  "language_info": {
   "codemirror_mode": {
    "name": "ipython",
    "version": 3
   },
   "file_extension": ".py",
   "mimetype": "text/x-python",
   "name": "python",
   "nbconvert_exporter": "python",
   "pygments_lexer": "ipython3",
   "version": "3.11.4"
  }
 },
 "nbformat": 4,
 "nbformat_minor": 2
}
